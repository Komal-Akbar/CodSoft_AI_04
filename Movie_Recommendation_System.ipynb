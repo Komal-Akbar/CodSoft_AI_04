{
  "nbformat": 4,
  "nbformat_minor": 0,
  "metadata": {
    "colab": {
      "provenance": []
    },
    "kernelspec": {
      "name": "python3",
      "display_name": "Python 3"
    },
    "language_info": {
      "name": "python"
    }
  },
  "cells": [
    {
      "cell_type": "code",
      "execution_count": 9,
      "metadata": {
        "id": "Ov5iWQIDxKkP"
      },
      "outputs": [],
      "source": [
        "import numpy as np # linear algebra\n",
        "import pandas as pd"
      ]
    },
    {
      "cell_type": "code",
      "source": [
        "book_df = pd.read_csv('movies.csv')\n",
        "ratings_df = pd.read_csv('ratings.csv').sample(40000)\n"
      ],
      "metadata": {
        "id": "DqXdiJUbyVFr"
      },
      "execution_count": 12,
      "outputs": []
    },
    {
      "cell_type": "code",
      "source": [
        "import pandas as pd\n",
        "from sklearn.feature_extraction.text import TfidfVectorizer\n",
        "from sklearn.metrics.pairwise import linear_kernel\n",
        "\n",
        "# Load the dataset\n",
        "book_df = pd.read_csv('movies.csv')\n",
        "ratings_df = pd.read_csv('ratings.csv').sample(40000)\n",
        "\n",
        "# Merge ratings with book data\n",
        "data = pd.merge(ratings_df, book_df, on='movieId', how='inner')\n",
        "\n",
        "# Create a TF-IDF vectorizer\n",
        "tfidf_vectorizer = TfidfVectorizer(stop_words='english')\n",
        "\n",
        "# Replace NaN values with empty string\n",
        "book_df['genres'] = book_df['genres'].fillna('')\n",
        "\n",
        "# Compute TF-IDF matrix for genres\n",
        "tfidf_matrix = tfidf_vectorizer.fit_transform(book_df['genres'])\n",
        "\n",
        "# Compute cosine similarity for genres\n",
        "cosine_sim = linear_kernel(tfidf_matrix, tfidf_matrix)\n",
        "\n",
        "# Function to get recommendations based on movie similarity\n",
        "def recommend_movies(movie_title):\n",
        "    idx = book_df[book_df['title'] == movie_title].index[0]\n",
        "    sim_scores = list(enumerate(cosine_sim[idx]))\n",
        "    sim_scores = sorted(sim_scores, key=lambda x: x[1], reverse=True)\n",
        "    sim_scores = sim_scores[1:6]  # Get top 5 similar movies\n",
        "    movie_indices = [i[0] for i in sim_scores]\n",
        "    return book_df['title'].iloc[movie_indices]\n",
        "\n",
        "# Get input from the user for multiple movie titles\n",
        "while True:\n",
        "    user_preference = input(\"Enter a movie title you like (or type 'exit' to quit): \")\n",
        "    if user_preference.lower() == 'exit':\n",
        "        break\n",
        "\n",
        "    if user_preference in book_df['title'].values:\n",
        "        recommendations = recommend_movies(user_preference)\n",
        "        print(f\"Recommendations based on '{user_preference}':\")\n",
        "        for movie in recommendations:\n",
        "            print(movie)\n",
        "    else:\n",
        "        print(\"Movie title not found in the dataset. Please try again.\")\n"
      ],
      "metadata": {
        "colab": {
          "base_uri": "https://localhost:8080/"
        },
        "id": "WDVn4Zsl6RF8",
        "outputId": "d939abe7-7c48-4647-b93d-caec85a1de77"
      },
      "execution_count": 17,
      "outputs": [
        {
          "name": "stdout",
          "output_type": "stream",
          "text": [
            "Enter a movie title you like (or type 'exit' to quit): Ran (1985)\n",
            "Recommendations based on 'Ran (1985)':\n",
            "Misérables, Les (1995)\n",
            "Before the Rain (Pred dozhdot) (1994)\n",
            "Walking Dead, The (1995)\n",
            "Schindler's List (1993)\n",
            "Land and Freedom (Tierra y libertad) (1995)\n",
            "Enter a movie title you like (or type 'exit' to quit): love\n",
            "Movie title not found in the dataset. Please try again.\n",
            "Enter a movie title you like (or type 'exit' to quit): quit\n",
            "Movie title not found in the dataset. Please try again.\n",
            "Enter a movie title you like (or type 'exit' to quit): exit\n"
          ]
        }
      ]
    }
  ]
}